{
 "cells": [
  {
   "cell_type": "markdown",
   "metadata": {},
   "source": [
    "** Xiangyi Cheng**"
   ]
  },
  {
   "cell_type": "markdown",
   "metadata": {},
   "source": [
    "# Concepts and Backgroud"
   ]
  },
  {
   "cell_type": "markdown",
   "metadata": {},
   "source": [
    "This notebook is for explaining the motion estimation with gradient method. As discussed in exercise 1, the application of motion estimation is broad and useful in reality such as object tracking, detecting, 3D reconstruction and etc.. One of the most popular method is called gradient-based motion estimation. Unless using a patch and doing correlation with the search region, the gadient method is focusing on deriving the changing in mathematical approach and set several constraints to solve the motion matrix.\n",
    "\n",
    "The transformation in two different frames can be described by Talyor expanding around the first frame as:\n",
    "\n",
    "![caption](eq1_r4.jpg)\n",
    "\n",
    "And the derivatives above can be expressed with $h=1$ into:\n",
    "\\begin{aligned}\n",
    "I_x &= \\frac{I(x+1, y) - I(x-1, y)}{2} \\\\\n",
    "I_y &= \\frac{I(x, y+1) - I(x, y-1)}{2} \\\\ \n",
    "\\end{aligned}\n",
    "$I_t$ is simplified with only two frames as:\n",
    "$$I_t = I(x, t+1) - I(x, t)$$"
   ]
  },
  {
   "cell_type": "markdown",
   "metadata": {},
   "source": [
    "This problem therefore becomes a least square problem, we have a equation to solve the motion:\n",
    "![caption](eq2_r2.jpg)\n",
    "where\n",
    "![caption](eq3_r4.jpg)"
   ]
  },
  {
   "cell_type": "markdown",
   "metadata": {},
   "source": [
    "As a Ax=b problem, we can easily solve the motion matrix v using some build-in functions in python. \n",
    "\n",
    "However, this is only the gradient calculation in one grid while computation in different grids are needed. Therefore, a function needs to be developed to fill all the motion information into the matrices. With these matrices, we are able to plot the optical flow.  "
   ]
  },
  {
   "cell_type": "markdown",
   "metadata": {},
   "source": [
    "# Implement"
   ]
  },
  {
   "cell_type": "code",
   "execution_count": null,
   "metadata": {},
   "outputs": [],
   "source": []
  },
  {
   "cell_type": "markdown",
   "metadata": {},
   "source": [
    "# Exploration"
   ]
  },
  {
   "cell_type": "code",
   "execution_count": null,
   "metadata": {},
   "outputs": [],
   "source": []
  },
  {
   "cell_type": "markdown",
   "metadata": {},
   "source": [
    "# Conclusion and Discussion"
   ]
  },
  {
   "cell_type": "code",
   "execution_count": null,
   "metadata": {},
   "outputs": [],
   "source": []
  }
 ],
 "metadata": {
  "kernelspec": {
   "display_name": "Python 2",
   "language": "python",
   "name": "python2"
  },
  "language_info": {
   "codemirror_mode": {
    "name": "ipython",
    "version": 2
   },
   "file_extension": ".py",
   "mimetype": "text/x-python",
   "name": "python",
   "nbconvert_exporter": "python",
   "pygments_lexer": "ipython2",
   "version": "2.7.12"
  }
 },
 "nbformat": 4,
 "nbformat_minor": 2
}
