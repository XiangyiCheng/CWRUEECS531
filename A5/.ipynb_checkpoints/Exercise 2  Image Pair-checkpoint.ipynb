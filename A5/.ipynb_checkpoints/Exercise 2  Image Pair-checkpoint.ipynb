{
 "cells": [
  {
   "cell_type": "markdown",
   "metadata": {},
   "source": [
    "*** Xiangyi Cheng (xxc283)***"
   ]
  },
  {
   "cell_type": "markdown",
   "metadata": {},
   "source": [
    "# Concept and Background"
   ]
  },
  {
   "cell_type": "markdown",
   "metadata": {},
   "source": [
    "We already built a 3D virtual world and set two cameras in different locations in Exercise 1. In Exercise 2, we are required to generate the image pairs based on these two cameras. \n",
    "\n",
    "To obtain the image pair, there are three critical matrices that will be calculated in the latter work, called extrinsic matrix, intrinsic matrix and camera matrix. Extrinsic matrix describes the Euclidean transformation from the world coordinates to the camera coordinates. Intrinsic matrix which also called calibration matrix shows the projection from the camera coordinates to the pixel space. With the extrinsic matrix and intrinsic matrix, one 3D object can be represented into the pixel space which means the location of the 3D objects is converted into the 2D image. To have this conversion, camera matrix is applied which is the dot product of the extrinsic matrix and the intrinsic matrix to the 3D location vector.\n",
    "\n",
    "The extrinsic matrix usually is expressed as:\n",
    "$$ M=\\begin{pmatrix}X_{cam}\\\\Y_{cam}\\\\Z_{cam}\\\\Origin*R\\end{pmatrix}$$\n",
    "where $X_{cam}, Y_{cam}$ and $Z_{cam}$ are the camera coordinate frame and Origin is the position vector of the 3D object, R is the rotation matrix as shown below.\n",
    "$$ R=\\begin{pmatrix}X_{cam}\\\\Y_{cam}\\\\Z_{cam}\\end{pmatrix}$$\n",
    "\n",
    "The intrinsic matrix accomplishes the transformation from the camera coordinate frame into the image pixel space. The image below is showing the simplified camera intrinsics where f is the focal length and ($c_x$, $c_y$) is the optical center. The image width and height are W and H.\n",
    "![Simplified Camera Intrinsics](pixel_proj.JPG)\n",
    "\n",
    "The mathmetical way to represent the intrinsic matrix K is:\n",
    "$$ K=\\begin{pmatrix}f_x&s&c_x\\\\0&af_y&c_y\\\\0&0&1\\end{pmatrix}$$\n",
    "where s encodes any possible skew between the sensor axes and a is the aspect ratio. In practice, the matrix can be simplified by setting a=1 and s=0,\n",
    "$$ K=\\begin{pmatrix}f_x&0&c_x\\\\0&f_y&c_y\\\\0&0&1\\end{pmatrix}$$\n",
    "\n",
    "The camera matrix describes the transformation between 3D objects into the images. Based on the previous matrices, we can tell that camera matrix P is the multiplication of extrinsic matrix and intrinsic matrix.\n",
    "$$ P=M*K$$\n",
    "\n",
    "The application below illustrates how to get the image pair using these matrices in python."
   ]
  },
  {
   "cell_type": "markdown",
   "metadata": {},
   "source": [
    "# Implement and Exploration"
   ]
  },
  {
   "cell_type": "markdown",
   "metadata": {},
   "source": [
    "Import Exercise 1 into the code so that we can use it explicitly. "
   ]
  },
  {
   "cell_type": "code",
   "execution_count": 31,
   "metadata": {},
   "outputs": [],
   "source": [
    "import numpy as np\n",
    "import matplotlib.pyplot as plt\n",
    "from mpl_toolkits.mplot3d import Axes3D\n",
    "from mpl_toolkits.mplot3d.art3d import Poly3DCollection\n",
    "\n",
    "\n",
    "def define_3Dpoints():\n",
    "\tx=[-0.5, 0, 0.5]\n",
    "\ty=[-0.5, 0, 0.5]\n",
    "\tz=[-0.5, 0, 0.5]\n",
    "\tX, Z, Y = np.meshgrid(x, y, z)\n",
    "\n",
    "\tdimension=X.shape[0]*Y.shape[0]*Z.shape[0]\n",
    "\t\n",
    "\tcolors=np.zeros((dimension,3))\n",
    "\tfor i in range (0, dimension):\n",
    "\t\tcolors[i,:]=np.random.rand(3)\n",
    "\n",
    "\treturn X,Y,Z,colors\n",
    "\n",
    "\n",
    "def camera_specification():\n",
    "\t# position parameters\n",
    "\tr= 5\n",
    "\talpha1= np.pi/6\n",
    "\tbeta= np.pi/6\n",
    "\n",
    "\t# camera 1 parameters\n",
    "\tcam1_pos= [r*np.cos(beta)*np.cos(alpha1), \n",
    "               r*np.cos(beta)*np.sin(alpha1), r*np.sin(beta)]\n",
    "\ttarget= np.array([0,0,0])\n",
    "\tup= np.array([0,0,1])\n",
    "\tfocal_length= 0.06\n",
    "\tfilm_width= 0.035\n",
    "\tfilm_height= 0.035\n",
    "\twidth= 256\n",
    "\theight= 256\t\n",
    "\n",
    "\t# camera 2 parameters, others are the same as the camera 1 \n",
    "\talpha2= np.pi/3\n",
    "\tcam2_pos= [r*np.cos(beta)*np.cos(alpha2), \n",
    "               r*np.cos(beta)*np.sin(alpha2), r*np.sin(beta)]\n",
    "\treturn cam1_pos,cam2_pos,target,up,focal_length,\n",
    "film_height,film_width,width,height\n",
    "\n",
    "\n",
    "def camera_view_unit(target,cam_pos,up):\n",
    "\tzcam= target-cam_pos\n",
    "\txcam= np.cross(zcam,up)\n",
    "\tycam= np.cross(zcam,xcam)\n",
    "\n",
    "\t# normalization\n",
    "\tif np.linalg.norm(xcam)!=0:\n",
    "\t\txcam= xcam/np.linalg.norm(xcam)\n",
    "\t\n",
    "\tif np.linalg.norm(ycam)!=0:\n",
    "\t\tycam= ycam/np.linalg.norm(ycam)\n",
    "\t\n",
    "\tif np.linalg.norm(zcam)!=0:\n",
    "\t\tzcam= zcam/np.linalg.norm(zcam)\n",
    "\t\n",
    "\treturn xcam,ycam,zcam"
   ]
  },
  {
   "cell_type": "markdown",
   "metadata": {},
   "source": [
    "Define the extrinsic matrix by knowing $X_{cam}$, $Y_{cam}$, $Z_{cam}$ which are obtained from Exercise 1. What we need to do is to reshape the matrix then add another row, $\\begin{pmatrix}Origin*R\\end{pmatrix}$. Origin is the camera position which was defined before and R is the rotation matrix as shown below.\n",
    "$$ R=\\begin{pmatrix}X_{cam}\\\\Y_{cam}\\\\Z_{cam}\\end{pmatrix}$$"
   ]
  },
  {
   "cell_type": "code",
   "execution_count": 32,
   "metadata": {},
   "outputs": [],
   "source": [
    "def extrinsic_matrix(camera):\n",
    "\tcam1_pos,cam2_pos,target,up,_,_,_,_,_=camera_specification()\n",
    "\n",
    "\tif camera==1:\n",
    "\t\tcam_pos=cam1_pos\n",
    "\telif camera==2:\n",
    "\t\tcam_pos=cam2_pos\n",
    "\telse:\n",
    "\t\tprint 'camera is not defined.'\n",
    "\n",
    "\txcam,ycam,zcam=camera_view_unit(target,cam_pos,up)\n",
    "\n",
    "\trotation_matrix=np.column_stack((xcam,ycam,zcam))\n",
    "\tadd=np.dot(np.dot(-1,cam_pos),rotation_matrix)\n",
    "\n",
    "\textrinsic_matrix=np.vstack([rotation_matrix,add])\n",
    "\n",
    "\treturn extrinsic_matrix"
   ]
  },
  {
   "cell_type": "markdown",
   "metadata": {},
   "source": [
    "Next step is intrinsic matrix specification. As discussed before, the intrinsic matrix K is\n",
    "$$ K=\\begin{pmatrix}f_x&0&c_x\\\\0&f_y&c_y\\\\0&0&1\\end{pmatrix}$$\n",
    "where ($c_x$, $c_y$) are the optical center and $f_x$, $f_y$ are the independent focal lengths which can be compulated by similar triangle rule."
   ]
  },
  {
   "cell_type": "code",
   "execution_count": 33,
   "metadata": {},
   "outputs": [],
   "source": [
    "def intrinsic_matrix(camera):\n",
    "\t_,_,_,_,focal_length,film_height,film_width,\n",
    "    width,height=camera_specification()\n",
    "\tcx= 0.5* (width +1)\n",
    "\tcy= 0.5* (height+1)\n",
    "\n",
    "\tfx= focal_length* width /film_width\n",
    "\tfy= focal_length* height/film_height\n",
    "\n",
    "\t# K matrix\n",
    "\tintrinsic_matrix= [[fx,0,0],[0,fy,0],[cx,cy,1]]\n",
    "\n",
    "\treturn intrinsic_matrix"
   ]
  },
  {
   "cell_type": "markdown",
   "metadata": {},
   "source": [
    "With extrinsic matrix and intrinsic matrix, we are able to compute the camera matrix by simply multiplying them two."
   ]
  },
  {
   "cell_type": "code",
   "execution_count": 34,
   "metadata": {},
   "outputs": [],
   "source": [
    "def camera_matrix(camera,extrinsic_matrix,intrinsic_matrix):\n",
    "\textrinsic_matrix=extrinsic_matrix(camera)\n",
    "\tintrinsic_matrix=intrinsic_matrix(camera)\n",
    "\tcamera_matrix= np.dot(extrinsic_matrix, intrinsic_matrix)\n",
    "\n",
    "\t# P matrix\n",
    "\treturn camera_matrix"
   ]
  },
  {
   "cell_type": "markdown",
   "metadata": {},
   "source": [
    "Multiply the 3D object position to the camera matrix to get the 2D coordinates of the object in the image space. All the x coordinate values and y coordinate values are returned into two seperate vectors. As well, the colors of the points are also returned."
   ]
  },
  {
   "cell_type": "code",
   "execution_count": 35,
   "metadata": {},
   "outputs": [],
   "source": [
    "def conv_2Dimage(camera,camera_matrix):\n",
    "\tX,Y,Z,colors=define_3Dpoints()\n",
    "\tX_reshape=X.reshape(1,-1)\n",
    "\tY_reshape=Y.reshape(1,-1)\n",
    "\tZ_reshape=Z.reshape(1,-1)\n",
    "\t_,dimension=X_reshape.shape\n",
    "\n",
    "\tpoint=np.column_stack((X_reshape,Y_reshape,\n",
    "                           Z_reshape,np.ones((1,dimension))))\n",
    "\tpoint_reshape=np.transpose(point.reshape(4,-1))\n",
    "\tpt=np.dot(point_reshape,camera_matrix)\n",
    "\tobject_x=np.transpose(pt[:,0]/pt[:,2])\n",
    "\tobject_y=np.transpose(pt[:,1]/pt[:,2])\n",
    "\n",
    "\treturn object_x,object_y,colors"
   ]
  },
  {
   "cell_type": "markdown",
   "metadata": {},
   "source": [
    "The final step is to plot the images taken by the two cameras. Instead of plotting the single pixel, expanding the pixel into a visible dot is a wise idea. Firstly, create a matrix representing the background color. I used two colors, black and white, to show the points. If the region is in the circle pattern near the located pixel, fill the color in the region, otherwise keep the background color."
   ]
  },
  {
   "cell_type": "code",
   "execution_count": 36,
   "metadata": {},
   "outputs": [],
   "source": [
    "def plot_2Dimage(object_x,object_y,colors):\n",
    "\t_,_,_,_,_,_,_,width,height=camera_specification()\n",
    "    \n",
    "\tcolor_matrix_white= np.ones((height,width,3)) # white background\n",
    "\tcolor_matrix_black= np.zeros((height,width,3)) # black background\n",
    "    \n",
    "\tobject_number=object_x.shape[0]\n",
    "\tshow_region=5\n",
    "\n",
    "\tfor i in range (0,object_number):\n",
    "\t\tr1= int(max(0,np.floor(object_y[i]-show_region))) \n",
    "\t\tr2= int(min(height-1,np.ceil(object_y[i]+show_region)))\n",
    "\t\tc1= int(max(0,np.floor(object_x[i]-show_region)))\n",
    "\t\tc2= int(min(width-1,np.ceil(object_x[i]+show_region)))\n",
    "\n",
    "\t\tfor r in range (r1,r2+1):\n",
    "\t\t\tfor c in range (c1,c2+1):\n",
    "\t\t\t\tif (r-object_y[i])**2+(c-object_x[i])**2< show_region**2:\n",
    "\t\t\t\t\tcolor_matrix_black[r,c,:]=colors[i,:]\n",
    "\t\t\t\t\tcolor_matrix_white[r,c,:]=colors[i,:]\n",
    "\t\n",
    "\tplt.subplot(1,2,1)\t\t\t\t\n",
    "\tplt.imshow(color_matrix_black)\n",
    "\tplt.subplot(1,2,2)\t\t\t\t\n",
    "\tplt.imshow(color_matrix_white)\n",
    "\tplt.show()"
   ]
  },
  {
   "cell_type": "markdown",
   "metadata": {},
   "source": [
    "The images taken by the camera 1 in different background colors are shown below.  "
   ]
  },
  {
   "cell_type": "code",
   "execution_count": 29,
   "metadata": {},
   "outputs": [
    {
     "data": {
      "image/png": "[encoded data removed]",
      "text/plain": [
       "<matplotlib.figure.Figure at 0x7fb56496ee90>"
      ]
     },
     "metadata": {},
     "output_type": "display_data"
    }
   ],
   "source": [
    "camera=1\n",
    "camera_matrix=camera_matrix(camera,extrinsic_matrix,intrinsic_matrix)\n",
    "object_x,object_y,colors=conv_2Dimage(camera,camera_matrix)\n",
    "plot_2Dimage(object_x,object_y,colors)"
   ]
  },
  {
   "cell_type": "markdown",
   "metadata": {},
   "source": [
    "The images taken by the camera 2 in different background colors are shown below.  "
   ]
  },
  {
   "cell_type": "code",
   "execution_count": 37,
   "metadata": {},
   "outputs": [
    {
     "data": {
      "image/png": "[encoded data removed]",
      "text/plain": [
       "<matplotlib.figure.Figure at 0x7fb569c7b210>"
      ]
     },
     "metadata": {},
     "output_type": "display_data"
    }
   ],
   "source": [
    "camera=2\n",
    "camera_matrix=camera_matrix(camera,extrinsic_matrix,intrinsic_matrix)\n",
    "object_x,object_y,colors=conv_2Dimage(camera,camera_matrix)\n",
    "plot_2Dimage(object_x,object_y,colors)"
   ]
  },
  {
   "cell_type": "markdown",
   "metadata": {},
   "source": [
    "# Conclusion and Discussion"
   ]
  },
  {
   "cell_type": "markdown",
   "metadata": {},
   "source": [
    "The image pair is obtained based on the transformation from 3D object into 2D image by applying extrinsic matrix and intrinsic matrix. In the application, instead of converting 3D into 2D, we usually reconstruct the 3D object using several 2D images. This exercise can be a preparation for the reconstruction. \n",
    "\n",
    "The exploration of my work is that I used python instead so that some representations were developed by myself. Also because of this, there is a limit of my code which will be discussed below.\n",
    "\n",
    "One thing can be improved is that I have to run seperately to show the images taken by camera 1 and 2. And the color of each point is given randomly. Therefore, the colors of points are slightly different from image 1 and 2. I believe it would be better if I modify the approach to plot. "
   ]
  },
  {
   "cell_type": "markdown",
   "metadata": {},
   "source": [
    "# Reference"
   ]
  },
  {
   "cell_type": "markdown",
   "metadata": {},
   "source": [
    "Richard Szeliski, \"Computer Vision Algorithms and Applications\", 2011"
   ]
  }
 ],
 "metadata": {
  "kernelspec": {
   "display_name": "Python 2",
   "language": "python",
   "name": "python2"
  },
  "language_info": {
   "codemirror_mode": {
    "name": "ipython",
    "version": 2
   },
   "file_extension": ".py",
   "mimetype": "text/x-python",
   "name": "python",
   "nbconvert_exporter": "python",
   "pygments_lexer": "ipython2",
   "version": "2.7.12"
  }
 },
 "nbformat": 4,
 "nbformat_minor": 2
}
