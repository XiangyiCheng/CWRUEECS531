{
 "cells": [
  {
   "cell_type": "markdown",
   "metadata": {},
   "source": [
    "** Xiangyi Cheng (xxc283)**"
   ]
  },
  {
   "cell_type": "markdown",
   "metadata": {},
   "source": [
    "# Introduction and Background"
   ]
  },
  {
   "cell_type": "markdown",
   "metadata": {},
   "source": [
    "Intubation is one of the most common procedures performed worldwide in emergency departments which requires high skill. It’s performed by inserting a plastic tube into the trachea to maintain an open airway of a patient. This intubation procedure often involves complications due to invisible glottis where is the tube must be inserted.  Therefore, device that can lead automated intubation is needed urgently to bring breakthrough in many emergency situations. In my research, IntuBot, a prototype of robotic intubation device, was developed to fill in this need. Currently, the hardware of IntuBot was fully assembled while the algorithm is still at the starting point. As an automated intubation device, IntuBot is required to accurately detect the vocal cords which are the entrance for the airway. Plastic tube will be pushed into the patients’ airway by motors based on this detection. \n",
    "\n",
    "To detect the vocal cords with high accuracy, a large and reliable database contained vocal cords will be needed. Although there exists amount of vocal cords images online, self-built database is still required since at least thousands of images are missing. The self-built database will be established by modifying then adding to the existing images. After obtaining the database, object detection using Haar feature-based cascade classifier in OpenCV will be applied. At least five classifiers based on different training stages are about to be tested. All the testing results will be merged and showed on a ROC curve to let me determine which one to be used. Once the classifier is chosen, a detection algorithm will be developed to apply the classifier on the testing images and a testing video. If there is time left, detection based on deep neural network in TensorFlow may be applied so that the results can be compared with the outcome obtained from Haar cascade. "
   ]
  },
  {
   "cell_type": "markdown",
   "metadata": {},
   "source": [
    "# Image Pre-processing and Data Preparation"
   ]
  },
  {
   "cell_type": "code",
   "execution_count": null,
   "metadata": {},
   "outputs": [],
   "source": []
  },
  {
   "cell_type": "markdown",
   "metadata": {},
   "source": [
    "# Classifier Training with Haar-like Features"
   ]
  },
  {
   "cell_type": "code",
   "execution_count": null,
   "metadata": {},
   "outputs": [],
   "source": []
  },
  {
   "cell_type": "markdown",
   "metadata": {},
   "source": [
    "# Detection Testing"
   ]
  },
  {
   "cell_type": "code",
   "execution_count": null,
   "metadata": {},
   "outputs": [],
   "source": []
  },
  {
   "cell_type": "markdown",
   "metadata": {},
   "source": [
    "# Reference"
   ]
  },
  {
   "cell_type": "code",
   "execution_count": null,
   "metadata": {},
   "outputs": [],
   "source": []
  }
 ],
 "metadata": {
  "kernelspec": {
   "display_name": "Python 2",
   "language": "python",
   "name": "python2"
  },
  "language_info": {
   "codemirror_mode": {
    "name": "ipython",
    "version": 2
   },
   "file_extension": ".py",
   "mimetype": "text/x-python",
   "name": "python",
   "nbconvert_exporter": "python",
   "pygments_lexer": "ipython2",
   "version": "2.7.12"
  }
 },
 "nbformat": 4,
 "nbformat_minor": 2
}
